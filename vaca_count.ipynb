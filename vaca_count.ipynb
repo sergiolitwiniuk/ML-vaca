{
  "nbformat": 4,
  "nbformat_minor": 2,
  "metadata": {
    "colab": {
      "name": "vaca_count.ipynb",
      "provenance": [],
      "collapsed_sections": []
    },
    "kernelspec": {
      "name": "python3",
      "display_name": "Python 3"
    },
    "language_info": {
      "name": "python"
    }
  },
  "cells": [
    {
      "cell_type": "code",
      "execution_count": null,
      "source": [],
      "outputs": [],
      "metadata": {
        "id": "7XRtiyj_ogT1"
      }
    },
    {
      "cell_type": "markdown",
      "source": [
        "1. Introducción: import libs\n"
      ],
      "metadata": {
        "id": "EP8ynNJao6rQ"
      }
    },
    {
      "cell_type": "code",
      "execution_count": 3,
      "source": [
        "import pandas as pd\n",
        "import numpy as np\n",
        "import scipy as sc\n",
        "import matplotlib.pyplot as plt\n",
        "import matplotlib.image as mpimg\n",
        "import seaborn as sns\n",
        "%matplotlib inline\n",
        "\n",
        "np.random.seed(2)\n",
        "\n",
        "from sklearn.model_selection import train_test_split\n",
        "from sklearn.metrics import confusion_matrix, mean_squared_error\n",
        "import itertools\n",
        "\n",
        "from keras.utils.np_utils import to_categorical #convierte usando one hot encoding\n",
        "from keras.models import *\n",
        "from keras.layers import *\n",
        "from keras.optimizers import RMSprop, Adam\n",
        "from keras.preprocessing.image import ImageDataGenerator\n",
        "from keras.callbacks import ReduceLROnPlateau\n",
        "from tensorflow.keras.applications import vgg16, inception_v3, resnet50\n",
        "from tensorflow.keras import backend\n",
        "\n",
        "sns.set(style='white', context='notebook', palette='deep')\n",
        "\n"
      ],
      "outputs": [],
      "metadata": {
        "id": "OITfx1z_pKAb"
      }
    },
    {
      "cell_type": "code",
      "execution_count": null,
      "source": [
        "def add_one_to_one_correlation_line(ax, min_factor=1, max_factor=1, **plot_kwargs):\n",
        "    lim_min, lim_max = pd.DataFrame([ax.get_ylim(), ax.get_xlim()]).agg({0: 'min', 1: 'max'})\n",
        "    lim_min *= min_factor\n",
        "    lim_max *= max_factor\n",
        "    plot_kwargs_internal = dict(color='grey', ls='--')\n",
        "    plot_kwargs_internal.update(plot_kwargs)\n",
        "    ax.plot([lim_min, lim_max], [lim_min, lim_max], **plot_kwargs_internal)\n",
        "    ax.set_ylim([lim_min, lim_max])\n",
        "    ax.set_xlim([lim_min, lim_max])"
      ],
      "outputs": [],
      "metadata": {
        "id": "zmGAg91Pp9-B"
      }
    },
    {
      "cell_type": "markdown",
      "source": [
        "2.Preparación de datos\n",
        "\n",
        "2.1 Carga en dataframe"
      ],
      "metadata": {}
    },
    {
      "cell_type": "code",
      "execution_count": null,
      "source": [
        "df = pd.read_csv(\"FaltapasaraCSVeletiquetado.csv\")"
      ],
      "outputs": [],
      "metadata": {}
    },
    {
      "cell_type": "markdown",
      "source": [
        "2.2 Mapeo del id al filename"
      ],
      "metadata": {}
    },
    {
      "cell_type": "code",
      "execution_count": null,
      "source": [
        "df['image_name'] = df['id'].map('seq_{:06d}.jpg'.format)"
      ],
      "outputs": [],
      "metadata": {}
    },
    {
      "cell_type": "markdown",
      "source": [
        "2.3 Preview"
      ],
      "metadata": {}
    },
    {
      "cell_type": "code",
      "execution_count": null,
      "source": [
        "df.describe()"
      ],
      "outputs": [],
      "metadata": {}
    }
  ]
}